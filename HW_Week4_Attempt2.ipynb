{
 "cells": [
  {
   "cell_type": "markdown",
   "id": "fa3517b6",
   "metadata": {},
   "source": [
    "# Week 4 Homework"
   ]
  },
  {
   "cell_type": "code",
   "execution_count": null,
   "id": "8c615ae5",
   "metadata": {},
   "outputs": [],
   "source": [
    "# ANDREW IMS\n",
    "\n",
    "\n",
    "\n",
    "'''"
   ]
  },
  {
   "cell_type": "code",
   "execution_count": null,
   "id": "2503b3f9",
   "metadata": {},
   "outputs": [],
   "source": [
    "'''\n",
    "In this homework, you will be using pandas + matplotlib to manipulate and plot data in various formats.\n",
    "To make it easier to start, first program, a line chart, has already been created for you.\n",
    "\n",
    "First, download about two months of stock data for META from\n",
    "https://finance.yahoo.com/quote/META/history/\n",
    "Try to get the most recent, 2022 data and download in either CSV or XLSX format.\n",
    "\n",
    "Now read the following cells to see what you need to do. Even the given program has to be improved \n",
    "in its functioning. \n",
    "\n",
    "Once you are done with this homework, upload the ipynb file to Blackboard\n",
    "'''"
   ]
  },
  {
   "cell_type": "code",
   "execution_count": null,
   "id": "d4b24433",
   "metadata": {},
   "outputs": [],
   "source": [
    "#____________________ ##### THIS IS A KEY SYNTAX THING!!! ##### ________________\n",
    "# adata = df.loc[df['Date'] == a, ['Open', 'Close']]\n",
    "# bdata = df.loc[df['Date'] == b, ['Open', 'Close']]\n",
    "# print(adata,'\\n',bdata)\n",
    "# stda = '7/5/2022'\n",
    "# enda = '8/10/2022'"
   ]
  },
  {
   "cell_type": "code",
   "execution_count": 1,
   "id": "90825220",
   "metadata": {},
   "outputs": [],
   "source": [
    "# Import and setup libraries\n",
    "import numpy as np\n",
    "import pandas as pd\n",
    "import matplotlib.pyplot as plt"
   ]
  },
  {
   "cell_type": "code",
   "execution_count": 4,
   "id": "c29327ff",
   "metadata": {},
   "outputs": [
    {
     "name": "stdout",
     "output_type": "stream",
     "text": [
      "Data is starting from:         Date\n",
      "1  7/5/2022\n",
      "Data is ending on:           Date\n",
      "63  9/30/2022\n"
     ]
    }
   ],
   "source": [
    "# Read the csv file and pick the first and the last date\n",
    "df = pd.read_csv(\"Meta.csv\")\n",
    "\n",
    "start_date = df.iloc[[1],[0]]\n",
    "end_date = df.iloc[[-1],[0]]\n",
    "print('Data is starting from: ',start_date)\n",
    "print('Data is ending on: ', end_date)"
   ]
  },
  {
   "cell_type": "code",
   "execution_count": 21,
   "id": "a676332b",
   "metadata": {},
   "outputs": [
    {
     "data": {
      "text/plain": [
       "'9/30/2022'"
      ]
     },
     "execution_count": 21,
     "metadata": {},
     "output_type": "execute_result"
    }
   ],
   "source": [
    "# Notice that the above does not give you just the date, it comes back as a dataframe. A better way is\n",
    "df[\"Date\"].values[-1]\n"
   ]
  },
  {
   "cell_type": "code",
   "execution_count": null,
   "id": "6847f0d3",
   "metadata": {},
   "outputs": [],
   "source": [
    "'''\n",
    "Other methods of data import\n",
    "pd.read_csv(filename)\n",
    "pd.read_excel(filename)\n",
    "pd.read_json(json_string)\n",
    "pd.read_html(url)\n",
    "etc\n",
    "'''"
   ]
  },
  {
   "cell_type": "code",
   "execution_count": 14,
   "id": "09dccb37",
   "metadata": {},
   "outputs": [
    {
     "data": {
      "text/html": [
       "<div>\n",
       "<style scoped>\n",
       "    .dataframe tbody tr th:only-of-type {\n",
       "        vertical-align: middle;\n",
       "    }\n",
       "\n",
       "    .dataframe tbody tr th {\n",
       "        vertical-align: top;\n",
       "    }\n",
       "\n",
       "    .dataframe thead th {\n",
       "        text-align: right;\n",
       "    }\n",
       "</style>\n",
       "<table border=\"1\" class=\"dataframe\">\n",
       "  <thead>\n",
       "    <tr style=\"text-align: right;\">\n",
       "      <th></th>\n",
       "      <th>Date</th>\n",
       "      <th>Open</th>\n",
       "      <th>High</th>\n",
       "      <th>Low</th>\n",
       "      <th>Close</th>\n",
       "      <th>Adj Close</th>\n",
       "      <th>Volume</th>\n",
       "    </tr>\n",
       "  </thead>\n",
       "  <tbody>\n",
       "    <tr>\n",
       "      <th>0</th>\n",
       "      <td>7/1/2022</td>\n",
       "      <td>160.309998</td>\n",
       "      <td>160.619995</td>\n",
       "      <td>155.000000</td>\n",
       "      <td>160.029999</td>\n",
       "      <td>160.029999</td>\n",
       "      <td>31423900</td>\n",
       "    </tr>\n",
       "    <tr>\n",
       "      <th>1</th>\n",
       "      <td>7/5/2022</td>\n",
       "      <td>158.139999</td>\n",
       "      <td>168.250000</td>\n",
       "      <td>157.020004</td>\n",
       "      <td>168.190002</td>\n",
       "      <td>168.190002</td>\n",
       "      <td>28618600</td>\n",
       "    </tr>\n",
       "    <tr>\n",
       "      <th>2</th>\n",
       "      <td>7/6/2022</td>\n",
       "      <td>168.199997</td>\n",
       "      <td>171.589996</td>\n",
       "      <td>165.460007</td>\n",
       "      <td>169.770004</td>\n",
       "      <td>169.770004</td>\n",
       "      <td>23085900</td>\n",
       "    </tr>\n",
       "    <tr>\n",
       "      <th>3</th>\n",
       "      <td>7/7/2022</td>\n",
       "      <td>169.449997</td>\n",
       "      <td>172.720001</td>\n",
       "      <td>167.779999</td>\n",
       "      <td>172.190002</td>\n",
       "      <td>172.190002</td>\n",
       "      <td>24083400</td>\n",
       "    </tr>\n",
       "    <tr>\n",
       "      <th>4</th>\n",
       "      <td>7/8/2022</td>\n",
       "      <td>169.979996</td>\n",
       "      <td>172.399994</td>\n",
       "      <td>168.149994</td>\n",
       "      <td>170.880005</td>\n",
       "      <td>170.880005</td>\n",
       "      <td>19249200</td>\n",
       "    </tr>\n",
       "  </tbody>\n",
       "</table>\n",
       "</div>"
      ],
      "text/plain": [
       "       Date        Open        High         Low       Close   Adj Close  \\\n",
       "0  7/1/2022  160.309998  160.619995  155.000000  160.029999  160.029999   \n",
       "1  7/5/2022  158.139999  168.250000  157.020004  168.190002  168.190002   \n",
       "2  7/6/2022  168.199997  171.589996  165.460007  169.770004  169.770004   \n",
       "3  7/7/2022  169.449997  172.720001  167.779999  172.190002  172.190002   \n",
       "4  7/8/2022  169.979996  172.399994  168.149994  170.880005  170.880005   \n",
       "\n",
       "     Volume  \n",
       "0  31423900  \n",
       "1  28618600  \n",
       "2  23085900  \n",
       "3  24083400  \n",
       "4  19249200  "
      ]
     },
     "execution_count": 14,
     "metadata": {},
     "output_type": "execute_result"
    }
   ],
   "source": [
    "# check the data inside\n",
    "df.head()"
   ]
  },
  {
   "cell_type": "code",
   "execution_count": null,
   "id": "3bff2509",
   "metadata": {},
   "outputs": [],
   "source": [
    "'''\n",
    "Other functions for Exploring Data\n",
    "df.shape()\n",
    "df.head(n)\n",
    "df.tail(n)\n",
    "df.info()\n",
    "df.describe()\n",
    "df.mean()\n",
    "df.corr()\n",
    "df.count()\n",
    "df.max()\n",
    "df.min()\n",
    "df.median()\n",
    "df.std()\n",
    "'''"
   ]
  },
  {
   "cell_type": "code",
   "execution_count": 142,
   "id": "2e373af4",
   "metadata": {},
   "outputs": [
    {
     "data": {
      "image/png": "[encoded data removed]",
      "text/plain": [
       "<Figure size 432x288 with 1 Axes>"
      ]
     },
     "metadata": {
      "needs_background": "light"
     },
     "output_type": "display_data"
    }
   ],
   "source": [
    "plt.suptitle('Stock prices of Meta', fontsize=18, color='k')\n",
    "plt.ylabel('Stock Price ($)', fontsize = 14, color = 'b')\n",
    "plt.xlabel('Date', fontsize = 14, color = 'b') # add an xlabel\n",
    "plt.ylabel('Stock Price ($)', fontsize = 14, color= 'g') # also add ylabel\n",
    "# Plot any one column at a time.\n",
    "df['Close'].plot(color='green');\n",
    "plt.show()\n",
    "\n",
    "# try changing the color, and column."
   ]
  },
  {
   "cell_type": "code",
   "execution_count": 143,
   "id": "08295763",
   "metadata": {},
   "outputs": [
    {
     "data": {
      "text/plain": [
       "<matplotlib.legend.Legend at 0x258886a3d30>"
      ]
     },
     "execution_count": 143,
     "metadata": {},
     "output_type": "execute_result"
    },
    {
     "data": {
      "image/png": "[encoded data removed]",
      "text/plain": [
       "<Figure size 432x288 with 1 Axes>"
      ]
     },
     "metadata": {
      "needs_background": "light"
     },
     "output_type": "display_data"
    }
   ],
   "source": [
    "# Plot first three columns at the same time, in different colors\n",
    "\n",
    "plt.suptitle('Stock prices of Meta', fontsize=18, color='blue')\n",
    "plt.xlabel('Days', fontsize = 14, color='blue')\n",
    "plt.ylabel('Stock Prices', fontsize = 14, color='b')\n",
    "df['Open'].plot(color='k');\n",
    "df['High'].plot(color='red');\n",
    "df['Low'].plot(color='blue');\n",
    "plt.grid()\n",
    "plt.legend()\n"
   ]
  },
  {
   "cell_type": "code",
   "execution_count": null,
   "id": "890da0d7",
   "metadata": {},
   "outputs": [],
   "source": [
    "# ''' ___(Questions)___\n",
    "# Using the above example as the starting point, write programs to create a\n",
    "# 1. Line plot of the opening, closing stock prices of Meta between two specific dates. \n",
    "#    Next, improve the above program so that the dates can be specified by the user at command line\n",
    "# 2. Bar plot of the trading volume between two specific dates. \n",
    "# 3. Histograms plot of opening, closing, high, low stock prices of Meta \n",
    "# 4. Stacked histograms plot of opening, closing, high, low stock prices\n",
    "# 5. Scatter plot of the trading volume/stock prices of Meta \n",
    "# '''"
   ]
  },
  {
   "cell_type": "code",
   "execution_count": 147,
   "id": "fdf83517",
   "metadata": {},
   "outputs": [
    {
     "name": "stdout",
     "output_type": "stream",
     "text": [
      "First Date is is:  7/15/2022\n",
      "         Open       Close\n",
      "9  160.539993  164.699997\n",
      "End Date is:  8/30/2022\n",
      "          Open       Close\n",
      "41  160.350006  157.160004\n"
     ]
    },
    {
     "data": {
      "image/png": "[encoded data removed]",
      "text/plain": [
       "<Figure size 432x288 with 1 Axes>"
      ]
     },
     "metadata": {
      "needs_background": "light"
     },
     "output_type": "display_data"
    }
   ],
   "source": [
    "# 1. Line plot of the opening, closing stock prices of Meta between two specific dates. \n",
    "#    Next, improve the above program so that the dates can be specified by the user at command line\n",
    "### reference: https://devenum.com/how-to-find-index-of-value-in-pandas-dataframe/\n",
    "\n",
    "a = input('Please enter an initial date starting from 7/1/2022-9/30/2022 (m/dd/yyyy): ')\n",
    "b = input('Please enter a final date starting from 7/1/2022-9/30/2022 (m/dd/yyyy): ')\n",
    "adata = df.loc[df['Date'] == a, ['Open', 'Close']]\n",
    "bdata = df.loc[df['Date'] == b, ['Open', 'Close']]\n",
    "cdata = pd.concat([adata,bdata])\n",
    "cdata['Open'].plot(color='blue');\n",
    "cdata['Close'].plot(color='red');\n",
    "plt.xlabel('Days', fontsize = 14, color='b')\n",
    "plt.ylabel('Stock Prices', fontsize = 14, color='b')\n",
    "plt.legend()\n",
    "print('First Date is is: ',a)\n",
    "print(adata)\n",
    "print('End Date is: ',b)\n",
    "print(bdata)\n",
    "\n"
   ]
  },
  {
   "cell_type": "code",
   "execution_count": null,
   "id": "b138be52",
   "metadata": {},
   "outputs": [],
   "source": [
    "## DataFrame.plot.bar(x=None, y=None, **kwargs)\n",
    "\n",
    "# df = pd.DataFrame({'lab':['A', 'B', 'C'], 'val':[10, 30, 20]})\n",
    "# ax = df.plot.bar(x='lab', y='val', rot=0)"
   ]
  },
  {
   "cell_type": "code",
   "execution_count": null,
   "id": "4ca6ee2f",
   "metadata": {},
   "outputs": [],
   "source": [
    "#a = input('Please enter an initial date starting from 7/1/2022-9/30/2022 (m/dd/yyyy): ')\n",
    "#b = input('Please enter a final date starting from 7/1/2022-9/30/2022 (m/dd/yyyy): ')\n",
    "a = '7/15/2022'\n",
    "b = '8/01/2022'\n",
    "adf = df.loc[df['Date'] == a, ['Volume']]\n",
    "bdf = df.loc[df['Date'] == b, ['Volume']]\n",
    "cdf = pd.concat([adf,bdf])\n",
    "cdata['Open'].plot(color='blue');\n",
    "cdata['Close'].plot(color='red');"
   ]
  },
  {
   "cell_type": "code",
   "execution_count": 31,
   "id": "b5a7537f",
   "metadata": {},
   "outputs": [
    {
     "name": "stdout",
     "output_type": "stream",
     "text": [
      "         Date    Volume\n",
      "9   7/15/2022  23342800\n",
      "30  8/15/2022  15878700\n"
     ]
    },
    {
     "data": {
      "text/plain": [
       "Text(0, 0.5, 'Stock Prices')"
      ]
     },
     "execution_count": 31,
     "metadata": {},
     "output_type": "execute_result"
    },
    {
     "data": {
      "image/png": "[encoded data removed]",
      "text/plain": [
       "<Figure size 432x288 with 1 Axes>"
      ]
     },
     "metadata": {
      "needs_background": "light"
     },
     "output_type": "display_data"
    }
   ],
   "source": [
    "# 2. Bar plot of the trading volume between two specific dates.\n",
    "## Reference: https://pandas.pydata.org/docs/reference/api/pandas.DataFrame.plot.bar.htm\n",
    "\n",
    "## DataFrame.plot.bar(x=None, y=None, **kwargs)\n",
    "a = '7/15/2022'\n",
    "b = '8/15/2022'\n",
    "adf = df.loc[df['Date'] == a, ['Date','Volume']]\n",
    "bdf = df.loc[df['Date'] == b, ['Date','Volume']]\n",
    "# print(adf)\n",
    "# print(bdf)\n",
    "cdf = pd.concat([adf,bdf])\n",
    "print(cdf)\n",
    "cdf.plot.bar(x='Date', y='Volume', rot=0)\n",
    "plt.xlabel('Days', fontsize = 14, color='b')\n",
    "plt.ylabel('Stock Prices', fontsize = 14, color='b')"
   ]
  },
  {
   "cell_type": "code",
   "execution_count": 9,
   "id": "d9e6b564",
   "metadata": {},
   "outputs": [],
   "source": [
    "# 3. Histograms plot of opening, closing, high, low stock prices of Meta "
   ]
  },
  {
   "cell_type": "code",
   "execution_count": null,
   "id": "0d0ddf02",
   "metadata": {},
   "outputs": [],
   "source": [
    "# 4. Stacked histograms plot of opening, closing, high, low stock prices"
   ]
  },
  {
   "cell_type": "code",
   "execution_count": null,
   "id": "4f95a3d8",
   "metadata": {},
   "outputs": [],
   "source": [
    "# 5. Scatter plot of the trading volume/stock prices of Meta "
   ]
  }
 ],
 "metadata": {
  "kernelspec": {
   "display_name": "Python 3 (ipykernel)",
   "language": "python",
   "name": "python3"
  },
  "language_info": {
   "codemirror_mode": {
    "name": "ipython",
    "version": 3
   },
   "file_extension": ".py",
   "mimetype": "text/x-python",
   "name": "python",
   "nbconvert_exporter": "python",
   "pygments_lexer": "ipython3",
   "version": "3.9.12"
  },
  "vscode": {
   "interpreter": {
    "hash": "d08bc008bd53612aee40323b61fa9f535e06378b7517293660f94788ffa18201"
   }
  }
 },
 "nbformat": 4,
 "nbformat_minor": 5
}
